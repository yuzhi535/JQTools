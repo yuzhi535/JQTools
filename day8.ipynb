{
  "nbformat": 4,
  "nbformat_minor": 0,
  "metadata": {
    "colab": {
      "name": "day8.ipynb",
      "provenance": [],
      "authorship_tag": "ABX9TyOX+pgUlrqKOw28LTuWp4WF",
      "include_colab_link": true
    },
    "kernelspec": {
      "name": "python3",
      "display_name": "Python 3"
    },
    "language_info": {
      "name": "python"
    }
  },
  "cells": [
    {
      "cell_type": "markdown",
      "metadata": {
        "id": "view-in-github",
        "colab_type": "text"
      },
      "source": [
        "<a href=\"https://colab.research.google.com/github/yuzhi535/JQTools/blob/master/day8.ipynb\" target=\"_parent\"><img src=\"https://colab.research.google.com/assets/colab-badge.svg\" alt=\"Open In Colab\"/></a>"
      ]
    },
    {
      "cell_type": "markdown",
      "metadata": {
        "id": "ek6cHDdAuTaj"
      },
      "source": [
        "# use my own data from google drive"
      ]
    },
    {
      "cell_type": "code",
      "metadata": {
        "colab": {
          "base_uri": "https://localhost:8080/"
        },
        "id": "mP47NBBLtMAa",
        "outputId": "14a7687f-2be5-4a6f-a764-eb18f8d8acf5"
      },
      "source": [
        "from google.colab import drive\n",
        "drive.mount('/content/drive')"
      ],
      "execution_count": 2,
      "outputs": [
        {
          "output_type": "stream",
          "text": [
            "Mounted at /content/drive\n"
          ],
          "name": "stdout"
        }
      ]
    },
    {
      "cell_type": "code",
      "metadata": {
        "colab": {
          "base_uri": "https://localhost:8080/"
        },
        "id": "FAZl2JsHtVyX",
        "outputId": "20211ab3-4f43-4d27-ec8e-66a68855ba1e"
      },
      "source": [
        "!ls"
      ],
      "execution_count": 3,
      "outputs": [
        {
          "output_type": "stream",
          "text": [
            "drive  sample_data\n"
          ],
          "name": "stdout"
        }
      ]
    },
    {
      "cell_type": "code",
      "metadata": {
        "id": "rNZtp67Ptrv6"
      },
      "source": [
        "import os\n",
        "os.chdir('drive/MyDrive')"
      ],
      "execution_count": 7,
      "outputs": []
    },
    {
      "cell_type": "code",
      "metadata": {
        "colab": {
          "base_uri": "https://localhost:8080/"
        },
        "id": "S51m_Moxt6JI",
        "outputId": "e6851acf-50a0-4510-89da-c5d5a5f9fc5e"
      },
      "source": [
        "!ls"
      ],
      "execution_count": 10,
      "outputs": [
        {
          "output_type": "stream",
          "text": [
            "drive  sample_data\n"
          ],
          "name": "stdout"
        }
      ]
    },
    {
      "cell_type": "markdown",
      "metadata": {
        "id": "oTsstnrAu_kk"
      },
      "source": [
        "# tranform a image"
      ]
    },
    {
      "cell_type": "code",
      "metadata": {
        "id": "iCizxlaou-qU"
      },
      "source": [
        "import torch\n",
        "import torchvision\n",
        "from torchvision.transforms import transforms\n",
        "import matplotlib.pyplot as plt\n",
        "import numpy as np\n",
        "import os"
      ],
      "execution_count": 2,
      "outputs": []
    },
    {
      "cell_type": "code",
      "metadata": {
        "id": "PtP18-nbvmgx"
      },
      "source": [
        "os.chdir('drive/MyDrive/datasets')"
      ],
      "execution_count": 3,
      "outputs": []
    },
    {
      "cell_type": "code",
      "metadata": {
        "id": "zTaTsNwrwPS9"
      },
      "source": [
        "import matplotlib.image as mpimg\n",
        "\n",
        "images = os.listdir()\n",
        "images_num = len(images)\n",
        "images = [torch.tensor(mpimg.imread((images[i]))) for i in range(images_num)]\n",
        "t1 = transforms.Compose([transforms.Resize(255)])\n",
        "\n",
        "images = [t1(image) for image in images]\n",
        "\n",
        "image = torchvision.utils.make_grid(images)\n",
        "\n",
        "plt.imshow(image)\n",
        "plt.show()\n",
        "\n",
        "\n",
        "\n"
      ],
      "execution_count": null,
      "outputs": []
    },
    {
      "cell_type": "markdown",
      "metadata": {
        "id": "edasQU2Kue4m"
      },
      "source": [
        "# transfer learning"
      ]
    },
    {
      "cell_type": "code",
      "metadata": {
        "id": "O4Q88aJEuibo"
      },
      "source": [
        ""
      ],
      "execution_count": null,
      "outputs": []
    },
    {
      "cell_type": "code",
      "metadata": {
        "id": "IfIEb94XwOXJ"
      },
      "source": [
        ""
      ],
      "execution_count": null,
      "outputs": []
    }
  ]
}